{
 "cells": [
  {
   "cell_type": "code",
   "execution_count": null,
   "metadata": {},
   "outputs": [],
   "source": [
    "using Pkg\n",
    "Pkg.add(\"ProgressBars\")\n",
    "Pkg.add(\"QuantEcon\")\n",
    "Pkg.add(\"SymPy\")"
   ]
  },
  {
   "cell_type": "code",
   "execution_count": 1,
   "metadata": {},
   "outputs": [],
   "source": [
    "using QuantEcon, SymPy, ProgressBars\n",
    "using LinearAlgebra, PyPlot"
   ]
  },
  {
   "cell_type": "code",
   "execution_count": 30,
   "metadata": {},
   "outputs": [
    {
     "data": {
      "text/plain": [
       "length (generic function with 184 methods)"
      ]
     },
     "execution_count": 30,
     "metadata": {},
     "output_type": "execute_result"
    }
   ],
   "source": [
    "import Base.iterate,Base.length\n",
    "struct Combinations{T}\n",
    "    itr::Vector{T}\n",
    "    count::Int64\n",
    "    itrsize::Int64\n",
    "    function Combinations(itr::Vector{T},count::Int) where T\n",
    "        new{T}(itr,Int64(count),length(itr))\n",
    "    end\n",
    "end\n",
    "\n",
    "function iterate(c::Combinations,state::Int64=0)\n",
    "    if state>=length(c)\n",
    "        return nothing\n",
    "    end\n",
    "    indices=digits(state,base=c.itrsize,pad=c.count)\n",
    "    [c.itr[i] for i in (indices .+1)],state+1\n",
    "end\n",
    "\n",
    "function length(c::Combinations)\n",
    "    length(c.itr) ^ c.count\n",
    "end\n",
    "\n",
    "# states = collect(Combinations([0,1],10))\n",
    "# dict = Dict(string(i) => 0 for i in states)"
   ]
  },
  {
   "cell_type": "code",
   "execution_count": 31,
   "metadata": {},
   "outputs": [
    {
     "data": {
      "text/plain": [
       "openMarkov (generic function with 2 methods)"
      ]
     },
     "execution_count": 31,
     "metadata": {},
     "output_type": "execute_result"
    }
   ],
   "source": [
    "function openMarkov(N, q, α, β, iterations, line=Int.(zeros(N)))\n",
    "    entry = N+1\n",
    "    exit = N+2\n",
    "    states = collect(Combinations([0,1],N))\n",
    "    dict = Dict(string(i) => 0 for i in states)\n",
    "    for i in ProgressBar(1:iterations)\n",
    "        \n",
    "        dict[string(line)] += 1\n",
    "        index = rand(1:N+2)\n",
    "        \n",
    "        if index==entry || index==exit #boundaries\n",
    "            if index==entry && line[1]==0 && rand() <= α #entry condition\n",
    "                line[1] = 1\n",
    "            elseif index==exit && line[N]==1 && rand() <= β #exit condition \n",
    "                line[N] = 0\n",
    "            end\n",
    "            \n",
    "        elseif line[index]==1 #point on the line \n",
    "            prospective_index = if (rand() <= q) index-1 else index+1 end\n",
    "            if (prospective_index>=1 && prospective_index<=N && line[prospective_index]==0)\n",
    "                line[index] = 0\n",
    "                line[prospective_index] = 1\n",
    "            end\n",
    "        end\n",
    "        \n",
    "    end\n",
    "    dict = Dict(key => dict[key]/iterations for key in collect(keys(dict)))\n",
    "    return line, dict\n",
    "end"
   ]
  },
  {
   "cell_type": "code",
   "execution_count": 39,
   "metadata": {},
   "outputs": [
    {
     "name": "stdout",
     "output_type": "stream",
     "text": [
      "100.0%┣█████████████████████████████┫ 100000/100000 [00:00<00:00, 270723.1 it/s]\n"
     ]
    },
    {
     "data": {
      "text/plain": [
       "Dict{String,Float64} with 4 entries:\n",
       "  \"[1, 0]\" => 0.405\n",
       "  \"[0, 1]\" => 0.1954\n",
       "  \"[1, 1]\" => 0.20021\n",
       "  \"[0, 0]\" => 0.19939"
      ]
     },
     "execution_count": 39,
     "metadata": {},
     "output_type": "execute_result"
    }
   ],
   "source": [
    "N = 2\n",
    "q = 0\n",
    "α = 1\n",
    "β = 1\n",
    "iterations = 1e5\n",
    "\n",
    "line, dist = openMarkov(N, q, α, β, iterations)\n",
    "dist"
   ]
  },
  {
   "cell_type": "code",
   "execution_count": 40,
   "metadata": {},
   "outputs": [
    {
     "data": {
      "text/plain": [
       "1-element Array{Array{Float64,1},1}:\n",
       " [0.5, 0.5]"
      ]
     },
     "execution_count": 40,
     "metadata": {},
     "output_type": "execute_result"
    }
   ],
   "source": [
    "N = 1\n",
    "d = N+2\n",
    "q = 0\n",
    "α = 1\n",
    "β = 1\n",
    "\n",
    "P = [1-α/d α/d\n",
    "     β/d 1-β/d]\n",
    "mc = MarkovChain(P)\n",
    "stationary_distributions(mc)"
   ]
  },
  {
   "cell_type": "code",
   "execution_count": 34,
   "metadata": {},
   "outputs": [
    {
     "name": "stdout",
     "output_type": "stream",
     "text": [
      "100.0%┣███████████████████████████┫ 1000000/1000000 [00:02<00:00, 539246.5 it/s]46254/1000000 [00:00<00:07, 138167.4 it/s]398309/1000000 [00:01<00:01, 442807.7 it/s]480597/1000000 [00:01<00:01, 474784.0 it/s]766722/1000000 [00:02<00:00, 510952.0 it/s]906814/1000000 [00:02<00:00, 525165.4 it/s]\n"
     ]
    },
    {
     "data": {
      "text/plain": [
       "Dict{String,Float64} with 8 entries:\n",
       "  \"[1, 0, 1]\" => 0.142195\n",
       "  \"[1, 1, 0]\" => 0.214424\n",
       "  \"[0, 0, 1]\" => 0.071463\n",
       "  \"[0, 0, 0]\" => 0.072283\n",
       "  \"[1, 1, 1]\" => 0.070816\n",
       "  \"[0, 1, 1]\" => 0.070472\n",
       "  \"[1, 0, 0]\" => 0.215298\n",
       "  \"[0, 1, 0]\" => 0.143049"
      ]
     },
     "execution_count": 34,
     "metadata": {},
     "output_type": "execute_result"
    }
   ],
   "source": [
    "N = 3\n",
    "q = 0\n",
    "α = 1\n",
    "β = 1\n",
    "iterations = 1e6\n",
    "\n",
    "_, dist = openMarkov(N, q, α, β, iterations)\n",
    "dist"
   ]
  },
  {
   "cell_type": "code",
   "execution_count": 170,
   "metadata": {},
   "outputs": [
    {
     "data": {
      "image/png": "[encoded data removed]",
      "text/plain": [
       "Figure(PyObject <Figure size 640x480 with 1 Axes>)"
      ]
     },
     "metadata": {},
     "output_type": "display_data"
    },
    {
     "data": {
      "text/plain": [
       "PyObject <matplotlib.legend.Legend object at 0x000000005B7045F8>"
      ]
     },
     "execution_count": 170,
     "metadata": {},
     "output_type": "execute_result"
    }
   ],
   "source": [
    "function sd2(q, α, β)\n",
    "    N = 2\n",
    "    d = N+2\n",
    "    P = [1-α/d α/d 0 0\n",
    "         0 1-(1-q)/d (1-q)/d 0\n",
    "         β/d q/d 1-(q+α+β)/d α/d\n",
    "         0 β/d 0 1-β/d]\n",
    "    mc = MarkovChain(P)\n",
    "    return stationary_distributions(mc)\n",
    "end\n",
    "\n",
    "# N = 2\n",
    "# d = N+2\n",
    "q = 0\n",
    "α = 1\n",
    "β = 1\n",
    "\n",
    "\n",
    "\n",
    "# x_vals = [i/10 for i=1:10]\n",
    "# state_1 = []\n",
    "# state_2 = []\n",
    "# state_3 = []\n",
    "# state_4 = []\n",
    "# for x in x_vals\n",
    "#     dist = sd2(x, α, β)[1]\n",
    "#     push!(state_1, dist[1])\n",
    "#     push!(state_2, dist[2])\n",
    "#     push!(state_3, dist[3])\n",
    "#     push!(state_4, dist[4])    \n",
    "# end\n",
    "# plot(x_vals, state_1, label=\"State=[0,0]\", color=\"black\")\n",
    "# plot(x_vals, state_2, label=\"State=[1,0]\", color=\"red\")\n",
    "# plot(x_vals, state_3, label=\"State=[0,1]\", color=\"black\", linestyle=\"dashed\")\n",
    "# plot(x_vals, state_4, label=\"State=[1,1]\", color=\"black\", linestyle=\"dotted\")\n",
    "# xlabel(\"q value\")\n",
    "# ylabel(\"Probability of the state in π\")\n",
    "# legend()\n",
    "\n",
    "# state_3, state_1, state_4"
   ]
  },
  {
   "cell_type": "code",
   "execution_count": 3,
   "metadata": {},
   "outputs": [
    {
     "data": {
      "text/plain": [
       "1-element Array{Array{Float64,1},1}:\n",
       " [0.07142857142857142, 0.21428571428571427, 0.14285714285714285, 0.07142857142857142, 0.21428571428571427, 0.14285714285714285, 0.07142857142857142, 0.07142857142857142]"
      ]
     },
     "execution_count": 3,
     "metadata": {},
     "output_type": "execute_result"
    }
   ],
   "source": [
    "function sd3(q, α, β)\n",
    "    N = 3\n",
    "    d = N+2\n",
    "    P = [1-α/d α/d 0 0 0 0 0 0\n",
    "         0 1-(1-q)/d (1-q)/d 0 0 0 0 0\n",
    "         0 q/d 1-(1+α)/d (1-q)/d α/d 0 0 0\n",
    "         β/d 0 q/d 1-(q+α+β)/d 0 α/d 0 0\n",
    "         0 0 0 0 1-(1-q)/d (1-q)/d 0 0\n",
    "         0 β/d 0 0 q/d 1-(1+β)/d (1-q)/d 0\n",
    "         0 0 β/d 0 0 q/d 1-(q+α+β)/d α/d\n",
    "         0 0 0 0 β/d 0 0 1-β/d]\n",
    "    mc = MarkovChain(P)\n",
    "    return stationary_distributions(mc)\n",
    "end\n",
    "\n",
    "# N=3\n",
    "# d=N+2\n",
    "q = 0\n",
    "α = 1\n",
    "β = 1\n",
    "\n",
    "sd3(q, α, β)\n",
    "\n",
    "# x_vals = [i/10 for i=1:10]\n",
    "# state_1 = []\n",
    "# state_2 = []\n",
    "# state_3 = []\n",
    "# state_4 = []\n",
    "# state_5 = []\n",
    "# state_6 = []\n",
    "# state_7 = []\n",
    "# state_8 = []\n",
    "# for x in x_vals\n",
    "#     if x == 1\n",
    "#         inp = .99\n",
    "#     else\n",
    "#         inp = x\n",
    "#     end\n",
    "#     dist = sd3(inp, α, β)[1]\n",
    "#     push!(state_1, dist[1])\n",
    "#     push!(state_2, dist[2])\n",
    "#     push!(state_3, dist[3])\n",
    "#     push!(state_4, dist[4])  \n",
    "#     push!(state_5, dist[5])\n",
    "#     push!(state_6, dist[6])\n",
    "#     push!(state_7, dist[7])\n",
    "#     push!(state_8, dist[8]) \n",
    "# end\n",
    "\n",
    "# plot(x_vals, state_1, color=\"black\", label=\"States 1,4,7,8\") #label=\"State 1\")\n",
    "# plot(x_vals, state_2, color=\"red\", label=\"States 2,5\") #label=\"State 2\") \n",
    "# plot(x_vals, state_3, color=\"turquoise\", label=\"States 3,6\") #label = \"State 3\") \n",
    "# plot(x_vals, state_4, color=\"black\", linestyle=\"dashed\", label=\"State 4\")\n",
    "# plot(x_vals, state_5, color=\"red\", linestyle=\"dashed\", label=\"State 5\")\n",
    "# plot(x_vals, state_6, color=\"turquoise\", linestyle=\"dashed\", label=\"State 6\")\n",
    "# plot(x_vals, state_7, color=\"black\", linestyle=\"dotted\", label=\"State 7\")\n",
    "# plot(x_vals, state_8, color=\"black\", linestyle=\"dashdot\", label=\"State 8\")\n",
    "# xlabel(\"q value\")\n",
    "# ylabel(\"Probability of the state in π\")\n",
    "# legend()\n",
    "\n",
    "# A = P'-I\n",
    "# x = [1 for i=1:8]'\n",
    "# A = vcat(A,x)\n",
    "# b = push!([0 for i=1:8], 1)\n",
    "\n",
    "# # Aπ = b\n",
    "# pi = A \\ b\n",
    "\n",
    "# \"[0, 0, 0]\" => 0.0613\n",
    "# \"[1, 0, 0]\" => 0.2049\n",
    "# \"[0, 1, 0]\" => 0.1478\n",
    "# \"[0, 0, 1]\" => 0.0707\n",
    "# \"[1, 1, 0]\" => 0.2103\n",
    "# \"[1, 0, 1]\" => 0.15\n",
    "# \"[0, 1, 1]\" => 0.0787\n",
    "# \"[1, 1, 1]\" => 0.0763\n",
    "\n",
    "# [0.07142857142857142,\n",
    "# 0.21428571428571427, \n",
    "# 0.14285714285714285, \n",
    "# 0.07142857142857142, \n",
    "# 0.21428571428571427, \n",
    "# 0.14285714285714285, \n",
    "# 0.07142857142857142, \n",
    "# 0.07142857142857142]"
   ]
  },
  {
   "cell_type": "code",
   "execution_count": 2,
   "metadata": {},
   "outputs": [
    {
     "data": {
      "text/latex": [
       "\\[\\left[ \\begin{array}{rrrrrrrr}- \\frac{α^{\\dagger}}{d^{\\dagger}}&0&0&\\frac{β^{\\dagger}}{d^{\\dagger}}&0&0&0&0\\\\\\frac{α^{\\dagger}}{d^{\\dagger}}&- \\frac{1 - q^{\\dagger}}{d^{\\dagger}}&\\frac{q^{\\dagger}}{d^{\\dagger}}&0&0&\\frac{β^{\\dagger}}{d^{\\dagger}}&0&0\\\\0&\\frac{1 - q^{\\dagger}}{d^{\\dagger}}&- \\frac{α^{\\dagger} + 1}{d^{\\dagger}}&\\frac{q^{\\dagger}}{d^{\\dagger}}&0&0&\\frac{β^{\\dagger}}{d^{\\dagger}}&0\\\\0&0&\\frac{1 - q^{\\dagger}}{d^{\\dagger}}&- \\frac{q^{\\dagger} + α^{\\dagger} + β^{\\dagger}}{d^{\\dagger}}&0&0&0&0\\\\0&0&\\frac{α^{\\dagger}}{d^{\\dagger}}&0&- \\frac{1 - q^{\\dagger}}{d^{\\dagger}}&\\frac{q^{\\dagger}}{d^{\\dagger}}&0&\\frac{β^{\\dagger}}{d^{\\dagger}}\\\\0&0&0&\\frac{α^{\\dagger}}{d^{\\dagger}}&\\frac{1 - q^{\\dagger}}{d^{\\dagger}}&- \\frac{β^{\\dagger} + 1}{d^{\\dagger}}&\\frac{q^{\\dagger}}{d^{\\dagger}}&0\\\\0&0&0&0&0&\\frac{1 - q^{\\dagger}}{d^{\\dagger}}&- \\frac{q^{\\dagger} + α^{\\dagger} + β^{\\dagger}}{d^{\\dagger}}&0\\\\0&0&0&0&0&0&\\frac{α^{\\dagger}}{d^{\\dagger}}&- \\frac{β^{\\dagger}}{d^{\\dagger}}\\\\1&1&1&1&1&1&1&1\\end{array}\\right]\\]"
      ],
      "text/plain": [
       "9×8 Array{Sym,2}:\n",
       " -adjoint(α)/adjoint(d)  …                       0\n",
       "  adjoint(α)/adjoint(d)                          0\n",
       "                      0                          0\n",
       "                      0                          0\n",
       "                      0      adjoint(β)/adjoint(d)\n",
       "                      0  …                       0\n",
       "                      0                          0\n",
       "                      0     -adjoint(β)/adjoint(d)\n",
       "                      1                          1"
      ]
     },
     "execution_count": 2,
     "metadata": {},
     "output_type": "execute_result"
    }
   ],
   "source": [
    "q = Sym(\"q\")\n",
    "α = Sym(\"α\")\n",
    "β = Sym(\"β\")\n",
    "d = Sym(\"d\")\n",
    "\n",
    "P = [1-α/d α/d 0 0 0 0 0 0\n",
    "     0 1-(1-q)/d (1-q)/d 0 0 0 0 0\n",
    "     0 q/d 1-(1+α)/d (1-q)/d α/d 0 0 0\n",
    "     β/d 0 q/d 1-(q+α+β)/d 0 α/d 0 0\n",
    "     0 0 0 0 1-(1-q)/d (1-q)/d 0 0\n",
    "     0 β/d 0 0 q/d 1-(1+β)/d (1-q)/d 0\n",
    "     0 0 β/d 0 0 q/d 1-(q+α+β)/d α/d\n",
    "     0 0 0 0 β/d 0 0 1-β/d]\n",
    "\n",
    "A = P'-I \n",
    "A = vcat(A,[1 for i=1:8]')\n",
    "\n",
    "# mc = MarkovChain(P)\n",
    "# stationary_distributions(mc)"
   ]
  },
  {
   "cell_type": "code",
   "execution_count": 5,
   "metadata": {},
   "outputs": [
    {
     "name": "stdout",
     "output_type": "stream",
     "text": [
      "pi = Dict{Any,Any}(π_6 => -α^2*β*(q^2 + q*α + q*β - q - α - β)/(q^2*α^3 + q^2*α^2*β + q^2*α*β^2 + q^2*β^3 - q*α^3*β - 2*q*α^3 + q*α^2*β^2 - q*α^2*β - q*α*β^3 - q*α*β^2 - 2*q*β^3 + α^3*β^2 + 2*α^3*β + α^3 + α^2*β^3 + 2*α^2*β^2 + α^2*β + 2*α*β^3 + α*β^2 + β^3),π_8 => α^3*(q^2 - 2*q + 1)/(q^2*α^3 + q^2*α^2*β + q^2*α*β^2 + q^2*β^3 - q*α^3*β - 2*q*α^3 + q*α^2*β^2 - q*α^2*β - q*α*β^3 - q*α*β^2 - 2*q*β^3 + α^3*β^2 + 2*α^3*β + α^3 + α^2*β^3 + 2*α^2*β^2 + α^2*β + 2*α*β^3 + α*β^2 + β^3),π_7 => α^2*β*(q^2 - 2*q + 1)/(q^2*α^3 + q^2*α^2*β + q^2*α*β^2 + q^2*β^3 - q*α^3*β - 2*q*α^3 + q*α^2*β^2 - q*α^2*β - q*α*β^3 - q*α*β^2 - 2*q*β^3 + α^3*β^2 + 2*α^3*β + α^3 + α^2*β^3 + 2*α^2*β^2 + α^2*β + 2*α*β^3 + α*β^2 + β^3),π_4 => α*β^2*(q^2 - 2*q + 1)/(q^2*α^3 + q^2*α^2*β + q^2*α*β^2 + q^2*β^3 - q*α^3*β - 2*q*α^3 + q*α^2*β^2 - q*α^2*β - q*α*β^3 - q*α*β^2 - 2*q*β^3 + α^3*β^2 + 2*α^3*β + α^3 + α^2*β^3 + 2*α^2*β^2 + α^2*β + 2*α*β^3 + α*β^2 + β^3),π_2 => α*β^2*(q^2 + q*α + β)/(q^2*α^3 + q^2*α^2*β + q^2*α*β^2 + q^2*β^3 - q*α^3*β - 2*q*α^3 + q*α^2*β^2 - q*α^2*β - q*α*β^3 - q*α*β^2 - 2*q*β^3 + α^3*β^2 + 2*α^3*β + α^3 + α^2*β^3 + 2*α^2*β^2 + α^2*β + 2*α*β^3 + α*β^2 + β^3),π_1 => β^3*(q^2 - 2*q + 1)/(q^2*α^3 + q^2*α^2*β + q^2*α*β^2 + q^2*β^3 - q*α^3*β - 2*q*α^3 + q*α^2*β^2 - q*α^2*β - q*α*β^3 - q*α*β^2 - 2*q*β^3 + α^3*β^2 + 2*α^3*β + α^3 + α^2*β^3 + 2*α^2*β^2 + α^2*β + 2*α*β^3 + α*β^2 + β^3),π_5 => α^2*β*(q^2 + 2*q*β + α*β + α + β^2)/(q^2*α^3 + q^2*α^2*β + q^2*α*β^2 + q^2*β^3 - q*α^3*β - 2*q*α^3 + q*α^2*β^2 - q*α^2*β - q*α*β^3 - q*α*β^2 - 2*q*β^3 + α^3*β^2 + 2*α^3*β + α^3 + α^2*β^3 + 2*α^2*β^2 + α^2*β + 2*α*β^3 + α*β^2 + β^3),π_3 => -α*β^2*(q^2 + q*α + q*β - q - α - β)/(q^2*α^3 + q^2*α^2*β + q^2*α*β^2 + q^2*β^3 - q*α^3*β - 2*q*α^3 + q*α^2*β^2 - q*α^2*β - q*α*β^3 - q*α*β^2 - 2*q*β^3 + α^3*β^2 + 2*α^3*β + α^3 + α^2*β^3 + 2*α^2*β^2 + α^2*β + 2*α*β^3 + α*β^2 + β^3))\n"
     ]
    },
    {
     "data": {
      "text/plain": [
       "Dict{Any,Any} with 8 entries:\n",
       "  π_6 => -α^2*β*(q^2 + q*α + q*β - q - α - β)/(q^2*α^3 + q^2*α^2*β + q^2*α*β^2 …\n",
       "  π_8 => α^3*(q^2 - 2*q + 1)/(q^2*α^3 + q^2*α^2*β + q^2*α*β^2 + q^2*β^3 - q*α^3…\n",
       "  π_7 => α^2*β*(q^2 - 2*q + 1)/(q^2*α^3 + q^2*α^2*β + q^2*α*β^2 + q^2*β^3 - q*α…\n",
       "  π_4 => α*β^2*(q^2 - 2*q + 1)/(q^2*α^3 + q^2*α^2*β + q^2*α*β^2 + q^2*β^3 - q*α…\n",
       "  π_2 => α*β^2*(q^2 + q*α + β)/(q^2*α^3 + q^2*α^2*β + q^2*α*β^2 + q^2*β^3 - q*α…\n",
       "  π_1 => β^3*(q^2 - 2*q + 1)/(q^2*α^3 + q^2*α^2*β + q^2*α*β^2 + q^2*β^3 - q*α^3…\n",
       "  π_5 => α^2*β*(q^2 + 2*q*β + α*β + α + β^2)/(q^2*α^3 + q^2*α^2*β + q^2*α*β^2 +…\n",
       "  π_3 => -α*β^2*(q^2 + q*α + q*β - q - α - β)/(q^2*α^3 + q^2*α^2*β + q^2*α*β^2 …"
      ]
     },
     "execution_count": 5,
     "metadata": {},
     "output_type": "execute_result"
    }
   ],
   "source": [
    "π_1 = Sym(\"π_1\")\n",
    "π_2 = Sym(\"π_2\")\n",
    "π_3 = Sym(\"π_3\")\n",
    "π_4 = Sym(\"π_4\")\n",
    "π_5 = Sym(\"π_5\")\n",
    "π_6 = Sym(\"π_6\")\n",
    "π_7 = Sym(\"π_7\")\n",
    "π_8 = Sym(\"π_8\")\n",
    "\n",
    "p = [π_1, π_2, π_3, π_4, π_5, π_6, π_7, π_8]\n",
    "b = push!([0 for i=1:8], 1)\n",
    "\n",
    "# pi = A\\b\n",
    "# ProgressBar(A\\b)\n",
    "\n",
    "to_solve = A*p#-push!(p, 1)\n",
    "# @show to_solve\n",
    "# SymPy.solve(to_solve)\n",
    "\n",
    "# @show SymPy.solve(to_solve[3,:], π_3)\n",
    "\n",
    "eq_1 = π_4*(β/α)-π_1\n",
    "eq_2 = -(π_1*α + π_3*q)/(q-1) - π_2\n",
    "eq_3 = (-π_2*q + π_2 + π_4*q + π_6*β + π_7*β)/(α+1) - π_3\n",
    "eq_4 = π_3*(1-q)/(q+α+β) - π_4\n",
    "eq_5 = -(π_3*α + π_6*q + π_8*β)/(q-1) - π_5\n",
    "eq_6 = (π_4*α - π_5*q + π_5 + π_7*q)/(β+1) - π_6\n",
    "eq_7 = π_6 * (1-q)/(q+α+β) - π_7\n",
    "eq_8 = π_7*(α/β) - π_8\n",
    "eq_9 = π_1 + π_2 + π_3 + π_4 + π_5 + π_6 + π_7 + π_8 - 1\n",
    "\n",
    "pi = SymPy.solve([eq_1, eq_2, eq_3, eq_4, eq_5, eq_6, eq_7, eq_8, eq_9], [π_1, π_2, π_3, π_4, π_5, π_6, π_7, π_8])\n",
    "@show pi"
   ]
  },
  {
   "cell_type": "code",
   "execution_count": 6,
   "metadata": {},
   "outputs": [
    {
     "data": {
      "text/latex": [
       "\\[ \\left[ \\begin{array}{r}\\frac{β^{3} \\left(q^{2} - 2 q + 1\\right)}{q^{2} α^{3} + q^{2} α^{2} β + q^{2} α β^{2} + q^{2} β^{3} - q α^{3} β - 2 q α^{3} + q α^{2} β^{2} - q α^{2} β - q α β^{3} - q α β^{2} - 2 q β^{3} + α^{3} β^{2} + 2 α^{3} β + α^{3} + α^{2} β^{3} + 2 α^{2} β^{2} + α^{2} β + 2 α β^{3} + α β^{2} + β^{3}}\\\\\\frac{α β^{2} \\left(q^{2} + q α + β\\right)}{q^{2} α^{3} + q^{2} α^{2} β + q^{2} α β^{2} + q^{2} β^{3} - q α^{3} β - 2 q α^{3} + q α^{2} β^{2} - q α^{2} β - q α β^{3} - q α β^{2} - 2 q β^{3} + α^{3} β^{2} + 2 α^{3} β + α^{3} + α^{2} β^{3} + 2 α^{2} β^{2} + α^{2} β + 2 α β^{3} + α β^{2} + β^{3}}\\\\- \\frac{α β^{2} \\left(q^{2} + q α + q β - q - α - β\\right)}{q^{2} α^{3} + q^{2} α^{2} β + q^{2} α β^{2} + q^{2} β^{3} - q α^{3} β - 2 q α^{3} + q α^{2} β^{2} - q α^{2} β - q α β^{3} - q α β^{2} - 2 q β^{3} + α^{3} β^{2} + 2 α^{3} β + α^{3} + α^{2} β^{3} + 2 α^{2} β^{2} + α^{2} β + 2 α β^{3} + α β^{2} + β^{3}}\\\\\\frac{α β^{2} \\left(q^{2} - 2 q + 1\\right)}{q^{2} α^{3} + q^{2} α^{2} β + q^{2} α β^{2} + q^{2} β^{3} - q α^{3} β - 2 q α^{3} + q α^{2} β^{2} - q α^{2} β - q α β^{3} - q α β^{2} - 2 q β^{3} + α^{3} β^{2} + 2 α^{3} β + α^{3} + α^{2} β^{3} + 2 α^{2} β^{2} + α^{2} β + 2 α β^{3} + α β^{2} + β^{3}}\\\\\\frac{α^{2} β \\left(q^{2} + 2 q β + α β + α + β^{2}\\right)}{q^{2} α^{3} + q^{2} α^{2} β + q^{2} α β^{2} + q^{2} β^{3} - q α^{3} β - 2 q α^{3} + q α^{2} β^{2} - q α^{2} β - q α β^{3} - q α β^{2} - 2 q β^{3} + α^{3} β^{2} + 2 α^{3} β + α^{3} + α^{2} β^{3} + 2 α^{2} β^{2} + α^{2} β + 2 α β^{3} + α β^{2} + β^{3}}\\\\- \\frac{α^{2} β \\left(q^{2} + q α + q β - q - α - β\\right)}{q^{2} α^{3} + q^{2} α^{2} β + q^{2} α β^{2} + q^{2} β^{3} - q α^{3} β - 2 q α^{3} + q α^{2} β^{2} - q α^{2} β - q α β^{3} - q α β^{2} - 2 q β^{3} + α^{3} β^{2} + 2 α^{3} β + α^{3} + α^{2} β^{3} + 2 α^{2} β^{2} + α^{2} β + 2 α β^{3} + α β^{2} + β^{3}}\\\\\\frac{α^{2} β \\left(q^{2} - 2 q + 1\\right)}{q^{2} α^{3} + q^{2} α^{2} β + q^{2} α β^{2} + q^{2} β^{3} - q α^{3} β - 2 q α^{3} + q α^{2} β^{2} - q α^{2} β - q α β^{3} - q α β^{2} - 2 q β^{3} + α^{3} β^{2} + 2 α^{3} β + α^{3} + α^{2} β^{3} + 2 α^{2} β^{2} + α^{2} β + 2 α β^{3} + α β^{2} + β^{3}}\\\\\\frac{α^{3} \\left(q^{2} - 2 q + 1\\right)}{q^{2} α^{3} + q^{2} α^{2} β + q^{2} α β^{2} + q^{2} β^{3} - q α^{3} β - 2 q α^{3} + q α^{2} β^{2} - q α^{2} β - q α β^{3} - q α β^{2} - 2 q β^{3} + α^{3} β^{2} + 2 α^{3} β + α^{3} + α^{2} β^{3} + 2 α^{2} β^{2} + α^{2} β + 2 α β^{3} + α β^{2} + β^{3}}\\end{array} \\right] \\]"
      ],
      "text/plain": [
       "8-element Array{Sym,1}:\n",
       "                  β^3*(q^2 - 2*q + 1)/(q^2*α^3 + q^2*α^2*β + q^2*α*β^2 + q^2*β^3 - q*α^3*β - 2*q*α^3 + q*α^2*β^2 - q*α^2*β - q*α*β^3 - q*α*β^2 - 2*q*β^3 + α^3*β^2 + 2*α^3*β + α^3 + α^2*β^3 + 2*α^2*β^2 + α^2*β + 2*α*β^3 + α*β^2 + β^3)\n",
       "                α*β^2*(q^2 + q*α + β)/(q^2*α^3 + q^2*α^2*β + q^2*α*β^2 + q^2*β^3 - q*α^3*β - 2*q*α^3 + q*α^2*β^2 - q*α^2*β - q*α*β^3 - q*α*β^2 - 2*q*β^3 + α^3*β^2 + 2*α^3*β + α^3 + α^2*β^3 + 2*α^2*β^2 + α^2*β + 2*α*β^3 + α*β^2 + β^3)\n",
       " -α*β^2*(q^2 + q*α + q*β - q - α - β)/(q^2*α^3 + q^2*α^2*β + q^2*α*β^2 + q^2*β^3 - q*α^3*β - 2*q*α^3 + q*α^2*β^2 - q*α^2*β - q*α*β^3 - q*α*β^2 - 2*q*β^3 + α^3*β^2 + 2*α^3*β + α^3 + α^2*β^3 + 2*α^2*β^2 + α^2*β + 2*α*β^3 + α*β^2 + β^3)\n",
       "                α*β^2*(q^2 - 2*q + 1)/(q^2*α^3 + q^2*α^2*β + q^2*α*β^2 + q^2*β^3 - q*α^3*β - 2*q*α^3 + q*α^2*β^2 - q*α^2*β - q*α*β^3 - q*α*β^2 - 2*q*β^3 + α^3*β^2 + 2*α^3*β + α^3 + α^2*β^3 + 2*α^2*β^2 + α^2*β + 2*α*β^3 + α*β^2 + β^3)\n",
       "  α^2*β*(q^2 + 2*q*β + α*β + α + β^2)/(q^2*α^3 + q^2*α^2*β + q^2*α*β^2 + q^2*β^3 - q*α^3*β - 2*q*α^3 + q*α^2*β^2 - q*α^2*β - q*α*β^3 - q*α*β^2 - 2*q*β^3 + α^3*β^2 + 2*α^3*β + α^3 + α^2*β^3 + 2*α^2*β^2 + α^2*β + 2*α*β^3 + α*β^2 + β^3)\n",
       " -α^2*β*(q^2 + q*α + q*β - q - α - β)/(q^2*α^3 + q^2*α^2*β + q^2*α*β^2 + q^2*β^3 - q*α^3*β - 2*q*α^3 + q*α^2*β^2 - q*α^2*β - q*α*β^3 - q*α*β^2 - 2*q*β^3 + α^3*β^2 + 2*α^3*β + α^3 + α^2*β^3 + 2*α^2*β^2 + α^2*β + 2*α*β^3 + α*β^2 + β^3)\n",
       "                α^2*β*(q^2 - 2*q + 1)/(q^2*α^3 + q^2*α^2*β + q^2*α*β^2 + q^2*β^3 - q*α^3*β - 2*q*α^3 + q*α^2*β^2 - q*α^2*β - q*α*β^3 - q*α*β^2 - 2*q*β^3 + α^3*β^2 + 2*α^3*β + α^3 + α^2*β^3 + 2*α^2*β^2 + α^2*β + 2*α*β^3 + α*β^2 + β^3)\n",
       "                  α^3*(q^2 - 2*q + 1)/(q^2*α^3 + q^2*α^2*β + q^2*α*β^2 + q^2*β^3 - q*α^3*β - 2*q*α^3 + q*α^2*β^2 - q*α^2*β - q*α*β^3 - q*α*β^2 - 2*q*β^3 + α^3*β^2 + 2*α^3*β + α^3 + α^2*β^3 + 2*α^2*β^2 + α^2*β + 2*α*β^3 + α*β^2 + β^3)"
      ]
     },
     "execution_count": 6,
     "metadata": {},
     "output_type": "execute_result"
    }
   ],
   "source": [
    "[\n",
    "    pi[π_1],\n",
    "    pi[π_2],\n",
    "    pi[π_3],\n",
    "    pi[π_4],\n",
    "    pi[π_5],\n",
    "    pi[π_6],\n",
    "    pi[π_7],\n",
    "    pi[π_8]\n",
    "]"
   ]
  }
 ],
 "metadata": {
  "kernelspec": {
   "display_name": "Julia 1.2.0",
   "language": "julia",
   "name": "julia-1.2"
  },
  "language_info": {
   "file_extension": ".jl",
   "mimetype": "application/julia",
   "name": "julia",
   "version": "1.2.0"
  }
 },
 "nbformat": 4,
 "nbformat_minor": 2
}
